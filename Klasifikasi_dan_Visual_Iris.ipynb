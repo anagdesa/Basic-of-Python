{
  "nbformat": 4,
  "nbformat_minor": 0,
  "metadata": {
    "colab": {
      "name": "Modul11_DTS.ipynb",
      "provenance": [],
      "collapsed_sections": [],
      "include_colab_link": true
    },
    "kernelspec": {
      "name": "python3",
      "display_name": "Python 3"
    },
    "language_info": {
      "name": "python"
    },
    "accelerator": "GPU"
  },
  "cells": [
    {
      "cell_type": "markdown",
      "metadata": {
        "id": "view-in-github",
        "colab_type": "text"
      },
      "source": [
        "<a href=\"https://colab.research.google.com/github/anagdesa/Basic-of-Python-for-Data-Science/blob/main/Klasifikasi_dan_Visual_Iris.ipynb\" target=\"_parent\"><img src=\"https://colab.research.google.com/assets/colab-badge.svg\" alt=\"Open In Colab\"/></a>"
      ]
    },
    {
      "cell_type": "markdown",
      "metadata": {
        "id": "YA30HD3pZxVs"
      },
      "source": [
        "**Tugas Harian Pertemuan 11**\n",
        "\n",
        "Pelatihan Data Scientist: Artificial Intelligence untuk Dosen dan Instruktur\n",
        "\n",
        "  *   Nama Peserta: **Gramandha Wega Intyanto** \n",
        "  *   Nomer: \n",
        "\n"
      ]
    },
    {
      "cell_type": "markdown",
      "metadata": {
        "id": "aNFPKYz_xgK6"
      },
      "source": [
        "**Penugasan:**\n",
        "\n",
        "1. Gunakan dataset Iris (https://archive.ics.uci.edu/ml/datasets/iris)\n",
        "2. Data dibagi dengan proporsi :\n",
        "  *   Data Latih (70%)\n",
        "  *   Data Uji (30%)\n",
        "3. Gunakan metode klasifikasi dengan parameter tuning untuk mendapatkan akurasi terbaik\n",
        "4. Terapkan Adaboost algorithm dan lakukan analisa perbandingan terhadap performa yang dihasilkan\n",
        "dari metode klasifikasi sebelumnya\n",
        "\n",
        "**Jawaban:**"
      ]
    },
    {
      "cell_type": "markdown",
      "metadata": {
        "id": "HMgHxuXKlfjh"
      },
      "source": [
        "**Library**"
      ]
    },
    {
      "cell_type": "code",
      "metadata": {
        "id": "TSmIU0FKTA_U"
      },
      "source": [
        "# Library\n",
        "import numpy as np\n",
        "import pandas as pd\n",
        "import seaborn as sns\n",
        "import matplotlib.pyplot as plt"
      ],
      "execution_count": 125,
      "outputs": []
    },
    {
      "cell_type": "markdown",
      "metadata": {
        "id": "lQ6n1wlu7GKp"
      },
      "source": [
        "**Membuat class untuk merubah classification_report menjadi dictonary**\n",
        "\n"
      ]
    },
    {
      "cell_type": "code",
      "metadata": {
        "id": "l87JMBNU7hm3"
      },
      "source": [
        "def dict_classification_report(y_test, y_pred):\n",
        "    from sklearn import metrics\n",
        "    import pandas as pd\n",
        "\n",
        "    report = metrics.classification_report(y_test, y_pred, output_dict=True)\n",
        "    df_classification_report = pd.DataFrame(report).transpose()\n",
        "    df_classification_report = df_classification_report.sort_values(by=['f1-score'], ascending=False)\n",
        "    return df_classification_report"
      ],
      "execution_count": 10,
      "outputs": []
    },
    {
      "cell_type": "markdown",
      "metadata": {
        "id": "7dnuNpwJkN1h"
      },
      "source": [
        "# 0. Dataset"
      ]
    },
    {
      "cell_type": "markdown",
      "metadata": {
        "id": "wgRfUxh232lI"
      },
      "source": [
        "Dataset yang digunakan dalam Notebook ini adalah dataset Iris (https://archive.ics.uci.edu/ml/datasets/iris) yang disediakan dalam pustaka Sklearn. Dataset dapat di-import dengan potongan kode di bawah:"
      ]
    },
    {
      "cell_type": "code",
      "metadata": {
        "id": "feYsnChYkQNP"
      },
      "source": [
        "from sklearn import datasets\n",
        "iris = datasets.load_iris()\n",
        "X = iris.data  # we only take the first two features.\n",
        "y = iris.target"
      ],
      "execution_count": 3,
      "outputs": []
    },
    {
      "cell_type": "markdown",
      "metadata": {
        "id": "a-OPJ6bN4aJJ"
      },
      "source": [
        "Dataset Iris terdiri dari 3 kelas (Iris Setosa, Iris Versicolour, Iris Virginica) dengan banyak data sejumlah 150. Atribut / Fitur dari dataset terdiri dari sepal length dalam cm, sepal width dalam cm, petal length dalam cm, dan petal width dalam cm."
      ]
    },
    {
      "cell_type": "code",
      "metadata": {
        "colab": {
          "base_uri": "https://localhost:8080/"
        },
        "id": "PSN8U-Bik8Lr",
        "outputId": "868ef968-7c53-4007-cc09-e9cbdfdbf5bb"
      },
      "source": [
        "print(\"Banyak data: \", len(X))"
      ],
      "execution_count": 4,
      "outputs": [
        {
          "output_type": "stream",
          "name": "stdout",
          "text": [
            "Banyak data:  150\n"
          ]
        }
      ]
    },
    {
      "cell_type": "code",
      "metadata": {
        "colab": {
          "base_uri": "https://localhost:8080/"
        },
        "id": "ruIXSP8ykYJt",
        "outputId": "b9c9d75c-ebd0-4ec9-ed33-9f54f80373a1"
      },
      "source": [
        "print(\"10 data pertama: \")\n",
        "print(X[:10])"
      ],
      "execution_count": 5,
      "outputs": [
        {
          "output_type": "stream",
          "name": "stdout",
          "text": [
            "10 data pertama: \n",
            "[[5.1 3.5 1.4 0.2]\n",
            " [4.9 3.  1.4 0.2]\n",
            " [4.7 3.2 1.3 0.2]\n",
            " [4.6 3.1 1.5 0.2]\n",
            " [5.  3.6 1.4 0.2]\n",
            " [5.4 3.9 1.7 0.4]\n",
            " [4.6 3.4 1.4 0.3]\n",
            " [5.  3.4 1.5 0.2]\n",
            " [4.4 2.9 1.4 0.2]\n",
            " [4.9 3.1 1.5 0.1]]\n"
          ]
        }
      ]
    },
    {
      "cell_type": "code",
      "metadata": {
        "colab": {
          "base_uri": "https://localhost:8080/"
        },
        "id": "BJywTnXpkfjR",
        "outputId": "5d074dc1-5a43-4688-c06c-71ba56e31711"
      },
      "source": [
        "print(\"10 label pertama: \")\n",
        "print(y[:10])"
      ],
      "execution_count": 6,
      "outputs": [
        {
          "output_type": "stream",
          "name": "stdout",
          "text": [
            "10 label pertama: \n",
            "[0 0 0 0 0 0 0 0 0 0]\n"
          ]
        }
      ]
    },
    {
      "cell_type": "markdown",
      "metadata": {
        "id": "Rr2eFJIGjuJp"
      },
      "source": [
        "# 1. Pembagian Data"
      ]
    },
    {
      "cell_type": "markdown",
      "metadata": {
        "id": "m2USj2Abj16s"
      },
      "source": [
        "## 1.1 Train-Validation Split\n"
      ]
    },
    {
      "cell_type": "markdown",
      "metadata": {
        "id": "eibAAHs24-Y5"
      },
      "source": [
        "Train-Validation split dapat dilakukan dengan menjalankan potongan kode di bawah. Persentase pembagian data training dan data validasi dapat ditentukan dengan mengubah nilai parameter train_size."
      ]
    },
    {
      "cell_type": "code",
      "metadata": {
        "id": "k2waL8KngWjk"
      },
      "source": [
        "from sklearn.model_selection import train_test_split\n",
        "\n",
        "X_train, X_test, y_train, y_test = train_test_split(X, y, train_size = 0.7)"
      ],
      "execution_count": 7,
      "outputs": []
    },
    {
      "cell_type": "code",
      "metadata": {
        "colab": {
          "base_uri": "https://localhost:8080/"
        },
        "id": "t99AAWb1kuNn",
        "outputId": "bae4862b-16f8-4074-c0b9-9a0e2aab51ed"
      },
      "source": [
        "print(\"Banyak data latih setelah dilakukan Train-Validation Split: \", len(X_train))\n",
        "print(\"Banyak data uji setelah dilakukan Train-Validation Split: \", len(X_test))"
      ],
      "execution_count": 8,
      "outputs": [
        {
          "output_type": "stream",
          "name": "stdout",
          "text": [
            "Banyak data latih setelah dilakukan Train-Validation Split:  105\n",
            "Banyak data uji setelah dilakukan Train-Validation Split:  45\n"
          ]
        }
      ]
    },
    {
      "cell_type": "markdown",
      "metadata": {
        "id": "e97uWkTgkNCZ"
      },
      "source": [
        "## 1.2\tK-Fold Cross Validation"
      ]
    },
    {
      "cell_type": "markdown",
      "metadata": {
        "id": "kQDyTsDy5NzG"
      },
      "source": [
        "Pustaka Scikit-learn menyediakan wrapper untuk melakukan K-Fold Cross Validation, yaitu dengan meng-import cross_val_score. cross_val_score menerima input berupa model machine learning, data training, label training, dan nilai K. Output yang dikeluarkan akan berupa list berisi akurasi setiap fold, sehingga untuk mendapatkan nilai rata-rata akurasi dari setiap foldnya, dapat menggunakan built-in function mean()."
      ]
    },
    {
      "cell_type": "code",
      "metadata": {
        "colab": {
          "base_uri": "https://localhost:8080/"
        },
        "id": "llXBIUEXlO_Q",
        "outputId": "0a3c1fb0-1577-4c29-ba01-a99737dc5fe7"
      },
      "source": [
        "from sklearn.model_selection import cross_val_score\n",
        "from sklearn.svm import SVC\n",
        "\n",
        "\n",
        "model = SVC(kernel = 'linear', C = 1)\n",
        "scores = cross_val_score(model, X, y, cv = 5)\n",
        "print(\"Akurasi model SVM untuk tiap fold: \", scores)\n",
        "print(\"Akurasi model SVM dengan 5-Fold Cross Validation: \", scores.mean())"
      ],
      "execution_count": 9,
      "outputs": [
        {
          "output_type": "stream",
          "name": "stdout",
          "text": [
            "Akurasi model SVM untuk tiap fold:  [0.96666667 1.         0.96666667 0.96666667 1.        ]\n",
            "Akurasi model SVM dengan 5-Fold Cross Validation:  0.9800000000000001\n"
          ]
        }
      ]
    },
    {
      "cell_type": "markdown",
      "metadata": {
        "id": "f4iVDE6MmXnE"
      },
      "source": [
        "# 2. Metode Klasifikasi"
      ]
    },
    {
      "cell_type": "markdown",
      "metadata": {
        "id": "SXRI3WsT78mh"
      },
      "source": [
        "Untuk potongan-potongan kode Metode Klasifikasi, data yang akan digunakan adalah data yang telah terbagi oleh proses Train-Validation split. Model akan dilatih dengan X_train dan y_train. Model yang telah terlatih kemudian diuji performa akurasinya menggunakan X_test dan y_test."
      ]
    },
    {
      "cell_type": "markdown",
      "metadata": {
        "id": "ey4qEoMdmagQ"
      },
      "source": [
        "## 2.1 Logistic Regression"
      ]
    },
    {
      "cell_type": "markdown",
      "metadata": {
        "id": "uaTOGwd_9Sr8"
      },
      "source": [
        "Penjelasan lebih lengkap mengenai penggunaan Logistic Regression dapat dilihat pada https://scikit-learn.org/stable/modules/generated/sklearn.linear_model.LogisticRegression.html"
      ]
    },
    {
      "cell_type": "code",
      "metadata": {
        "colab": {
          "base_uri": "https://localhost:8080/",
          "height": 360
        },
        "id": "8vahsKNQlsiC",
        "outputId": "dada8522-444c-4ffa-9fd7-edc516c36c4b"
      },
      "source": [
        "from sklearn.linear_model import LogisticRegression\n",
        "from sklearn import metrics\n",
        "from sklearn.metrics import precision_score,recall_score,f1_score, classification_report, confusion_matrix\n",
        "import numpy as np\n",
        "import pandas as pd\n",
        "\n",
        "lr = LogisticRegression()\n",
        "\n",
        "lr.fit(X_train, y_train)\n",
        "y_pred = lr.predict(X_test)\n",
        "acc_lr = metrics.accuracy_score(y_test, y_pred)\n",
        "print(\"Akurasi dengan menggunakan Logistic Regression: \", acc_lr)\n",
        "\n",
        "# prep_lr = precision_score(y_test, y_pred, average='micro')\n",
        "# print(\"Precision dengan menggunakan Logistic Regression: \", prep_lr)\n",
        "\n",
        "# recall_lr = recall_score(y_test, y_pred, average='micro')\n",
        "# print(\"Recall dengan menggunakan Logistic Regression: \", recall_lr)\n",
        "\n",
        "# f1_lr = f1_score(y_test, y_pred, average='micro')\n",
        "# print(\"F1 dengan menggunakan Logistic Regression: \", f1_lr)\n",
        "\n",
        "rp_lr = dict_classification_report(y_test,y_pred)\n",
        "print(rp_lr)\n",
        "\n",
        "cm_lr = confusion_matrix(y_test, y_pred)\n",
        "print(cm_lr)\n",
        "\n",
        "perf_lr =rp_lr.loc[ 'weighted avg' ,  'precision' : 'f1-score' ]\n",
        "key_perf_lr = perf_lr.keys()\n",
        "\n",
        "perf_acc_lr = rp_lr.loc['accuracy','f1-score']\n",
        "\n",
        "V_Plr_key = np.append('accuracy', key_perf_lr)\n",
        "V_Plr = np.append(perf_acc_lr, perf_lr)\n",
        "\n",
        "n_lr = pd.DataFrame(V_Plr, V_Plr_key, columns=['l-regression'])\n",
        "n_lr.head()"
      ],
      "execution_count": 121,
      "outputs": [
        {
          "output_type": "stream",
          "name": "stdout",
          "text": [
            "Akurasi dengan menggunakan Logistic Regression:  0.9777777777777777\n",
            "              precision    recall  f1-score    support\n",
            "0              1.000000  1.000000  1.000000  13.000000\n",
            "macro avg      0.981481  0.977778  0.978982  45.000000\n",
            "accuracy       0.977778  0.977778  0.977778   0.977778\n",
            "weighted avg   0.979012  0.977778  0.977712  45.000000\n",
            "1              0.944444  1.000000  0.971429  17.000000\n",
            "2              1.000000  0.933333  0.965517  15.000000\n",
            "[[13  0  0]\n",
            " [ 0 17  0]\n",
            " [ 0  1 14]]\n"
          ]
        },
        {
          "output_type": "execute_result",
          "data": {
            "text/html": [
              "<div>\n",
              "<style scoped>\n",
              "    .dataframe tbody tr th:only-of-type {\n",
              "        vertical-align: middle;\n",
              "    }\n",
              "\n",
              "    .dataframe tbody tr th {\n",
              "        vertical-align: top;\n",
              "    }\n",
              "\n",
              "    .dataframe thead th {\n",
              "        text-align: right;\n",
              "    }\n",
              "</style>\n",
              "<table border=\"1\" class=\"dataframe\">\n",
              "  <thead>\n",
              "    <tr style=\"text-align: right;\">\n",
              "      <th></th>\n",
              "      <th>l-regression</th>\n",
              "    </tr>\n",
              "  </thead>\n",
              "  <tbody>\n",
              "    <tr>\n",
              "      <th>accuracy</th>\n",
              "      <td>0.977778</td>\n",
              "    </tr>\n",
              "    <tr>\n",
              "      <th>precision</th>\n",
              "      <td>0.979012</td>\n",
              "    </tr>\n",
              "    <tr>\n",
              "      <th>recall</th>\n",
              "      <td>0.977778</td>\n",
              "    </tr>\n",
              "    <tr>\n",
              "      <th>f1-score</th>\n",
              "      <td>0.977712</td>\n",
              "    </tr>\n",
              "  </tbody>\n",
              "</table>\n",
              "</div>"
            ],
            "text/plain": [
              "           l-regression\n",
              "accuracy       0.977778\n",
              "precision      0.979012\n",
              "recall         0.977778\n",
              "f1-score       0.977712"
            ]
          },
          "metadata": {},
          "execution_count": 121
        }
      ]
    },
    {
      "cell_type": "markdown",
      "metadata": {
        "id": "folO6KG2nGak"
      },
      "source": [
        "## 2.2 Support Vector Machine"
      ]
    },
    {
      "cell_type": "markdown",
      "metadata": {
        "id": "gRw2n3sH9MkC"
      },
      "source": [
        "Penjelasan lebih lengkap mengenai penggunaan Support Vector Machine dapat dilihat pada https://scikit-learn.org/stable/modules/generated/sklearn.svm.SVC.html"
      ]
    },
    {
      "cell_type": "code",
      "metadata": {
        "colab": {
          "base_uri": "https://localhost:8080/",
          "height": 360
        },
        "id": "lQ447Uz4nJ1P",
        "outputId": "5ea96a28-fef8-45bb-d4b6-5bbdf943d905"
      },
      "source": [
        "from sklearn.svm import SVC\n",
        "from sklearn import metrics\n",
        "from sklearn.metrics import precision_score,recall_score,f1_score, classification_report, confusion_matrix\n",
        "\n",
        "\n",
        "svm = SVC(\n",
        "  kernel = 'rbf',\n",
        "  C = 1,\n",
        "  gamma = 0.01\n",
        ")\n",
        "\n",
        "svm.fit(X_train, y_train)\n",
        "y_pred = svm.predict(X_test)\n",
        "acc_svm = metrics.accuracy_score(y_test, y_pred)\n",
        "print(\"Akurasi dengan menggunakan Logistic Regression: \", acc_svm)\n",
        "\n",
        "\n",
        "rp_svm = dict_classification_report(y_test,y_pred)\n",
        "print(rp_svm)\n",
        "\n",
        "cm_svm = confusion_matrix(y_test, y_pred)\n",
        "print(cm_svm)\n",
        "\n",
        "perf_svm =rp_svm.loc[ 'weighted avg' ,  'precision' : 'f1-score' ]\n",
        "key_perf_svm = perf_svm.keys()\n",
        "\n",
        "perf_acc_svm = rp_svm.loc['accuracy','f1-score']\n",
        "\n",
        "V_Psvm_key = np.append('accuracy', key_perf_svm)\n",
        "V_Psvm = np.append(perf_acc_svm, perf_svm)\n",
        "\n",
        "n_svm = pd.DataFrame(V_Psvm, V_Psvm_key, columns=['SVM-rbf'])\n",
        "n_svm.head()"
      ],
      "execution_count": 120,
      "outputs": [
        {
          "output_type": "stream",
          "name": "stdout",
          "text": [
            "Akurasi dengan menggunakan Logistic Regression:  0.9555555555555556\n",
            "              precision    recall  f1-score    support\n",
            "0              1.000000  1.000000  1.000000  13.000000\n",
            "macro avg      0.958170  0.958170  0.958170  45.000000\n",
            "accuracy       0.955556  0.955556  0.955556   0.955556\n",
            "weighted avg   0.955556  0.955556  0.955556  45.000000\n",
            "1              0.941176  0.941176  0.941176  17.000000\n",
            "2              0.933333  0.933333  0.933333  15.000000\n",
            "[[13  0  0]\n",
            " [ 0 16  1]\n",
            " [ 0  1 14]]\n"
          ]
        },
        {
          "output_type": "execute_result",
          "data": {
            "text/html": [
              "<div>\n",
              "<style scoped>\n",
              "    .dataframe tbody tr th:only-of-type {\n",
              "        vertical-align: middle;\n",
              "    }\n",
              "\n",
              "    .dataframe tbody tr th {\n",
              "        vertical-align: top;\n",
              "    }\n",
              "\n",
              "    .dataframe thead th {\n",
              "        text-align: right;\n",
              "    }\n",
              "</style>\n",
              "<table border=\"1\" class=\"dataframe\">\n",
              "  <thead>\n",
              "    <tr style=\"text-align: right;\">\n",
              "      <th></th>\n",
              "      <th>SVM-rbf</th>\n",
              "    </tr>\n",
              "  </thead>\n",
              "  <tbody>\n",
              "    <tr>\n",
              "      <th>accuracy</th>\n",
              "      <td>0.955556</td>\n",
              "    </tr>\n",
              "    <tr>\n",
              "      <th>precision</th>\n",
              "      <td>0.955556</td>\n",
              "    </tr>\n",
              "    <tr>\n",
              "      <th>recall</th>\n",
              "      <td>0.955556</td>\n",
              "    </tr>\n",
              "    <tr>\n",
              "      <th>f1-score</th>\n",
              "      <td>0.955556</td>\n",
              "    </tr>\n",
              "  </tbody>\n",
              "</table>\n",
              "</div>"
            ],
            "text/plain": [
              "            SVM-rbf\n",
              "accuracy   0.955556\n",
              "precision  0.955556\n",
              "recall     0.955556\n",
              "f1-score   0.955556"
            ]
          },
          "metadata": {},
          "execution_count": 120
        }
      ]
    },
    {
      "cell_type": "markdown",
      "metadata": {
        "id": "1ueX9Dl7nxSn"
      },
      "source": [
        "### Hyperparameter SVM"
      ]
    },
    {
      "cell_type": "markdown",
      "metadata": {
        "id": "UfupuqdO8iTg"
      },
      "source": [
        "Saat menggunakan model SVM, beberapa parameter dapat diubah sesuai dengan kebutuhan, antara lain kernel (linear, polynomial, rbf), nilai C, dan nilai Gamma."
      ]
    },
    {
      "cell_type": "code",
      "metadata": {
        "colab": {
          "base_uri": "https://localhost:8080/",
          "height": 360
        },
        "id": "4c8iLaLSnwQm",
        "outputId": "6286071a-742f-48d5-a6d1-a914de4c7167"
      },
      "source": [
        "# SVM dengan kernel Linear, nilai parameter C dapat diubah juga.\n",
        "svmLinear = SVC(\n",
        "  kernel = 'linear',\n",
        "  C = 1\n",
        ")\n",
        "\n",
        "svmLinear.fit(X_train, y_train)\n",
        "y_pred = svmLinear.predict(X_test)\n",
        "score_svmLinear = metrics.accuracy_score(y_test, y_pred)\n",
        "print(\"Akurasi dengan menggunakan Support Vector Machine Linear Kernel: \", score_svmLinear)\n",
        "\n",
        "rp_svmLinear = dict_classification_report(y_test,y_pred)\n",
        "print(rp_svmLinear)\n",
        "\n",
        "cm_svmLinear = confusion_matrix(y_test, y_pred)\n",
        "print(cm_svmLinear)\n",
        "\n",
        "perf_svmLinear =rp_svmLinear.loc[ 'weighted avg' ,  'precision' : 'f1-score' ]\n",
        "key_perf_svmLinear = perf_svmLinear.keys()\n",
        "\n",
        "perf_acc_svmLinear = rp_svmLinear.loc['accuracy','f1-score']\n",
        "\n",
        "V_PsvmLinear_key = np.append('accuracy', key_perf_svmLinear)\n",
        "V_PsvmLinear = np.append(perf_acc_svmLinear, perf_svmLinear)\n",
        "\n",
        "n_svmLinear = pd.DataFrame(V_PsvmLinear, V_PsvmLinear_key, columns=['SVM-linear'])\n",
        "n_svmLinear.head()"
      ],
      "execution_count": 119,
      "outputs": [
        {
          "output_type": "stream",
          "name": "stdout",
          "text": [
            "Akurasi dengan menggunakan Support Vector Machine Linear Kernel:  1.0\n",
            "              precision  recall  f1-score  support\n",
            "0                   1.0     1.0       1.0     13.0\n",
            "1                   1.0     1.0       1.0     17.0\n",
            "2                   1.0     1.0       1.0     15.0\n",
            "accuracy            1.0     1.0       1.0      1.0\n",
            "macro avg           1.0     1.0       1.0     45.0\n",
            "weighted avg        1.0     1.0       1.0     45.0\n",
            "[[13  0  0]\n",
            " [ 0 17  0]\n",
            " [ 0  0 15]]\n"
          ]
        },
        {
          "output_type": "execute_result",
          "data": {
            "text/html": [
              "<div>\n",
              "<style scoped>\n",
              "    .dataframe tbody tr th:only-of-type {\n",
              "        vertical-align: middle;\n",
              "    }\n",
              "\n",
              "    .dataframe tbody tr th {\n",
              "        vertical-align: top;\n",
              "    }\n",
              "\n",
              "    .dataframe thead th {\n",
              "        text-align: right;\n",
              "    }\n",
              "</style>\n",
              "<table border=\"1\" class=\"dataframe\">\n",
              "  <thead>\n",
              "    <tr style=\"text-align: right;\">\n",
              "      <th></th>\n",
              "      <th>SVM-linear</th>\n",
              "    </tr>\n",
              "  </thead>\n",
              "  <tbody>\n",
              "    <tr>\n",
              "      <th>accuracy</th>\n",
              "      <td>1.0</td>\n",
              "    </tr>\n",
              "    <tr>\n",
              "      <th>precision</th>\n",
              "      <td>1.0</td>\n",
              "    </tr>\n",
              "    <tr>\n",
              "      <th>recall</th>\n",
              "      <td>1.0</td>\n",
              "    </tr>\n",
              "    <tr>\n",
              "      <th>f1-score</th>\n",
              "      <td>1.0</td>\n",
              "    </tr>\n",
              "  </tbody>\n",
              "</table>\n",
              "</div>"
            ],
            "text/plain": [
              "           SVM-linear\n",
              "accuracy          1.0\n",
              "precision         1.0\n",
              "recall            1.0\n",
              "f1-score          1.0"
            ]
          },
          "metadata": {},
          "execution_count": 119
        }
      ]
    },
    {
      "cell_type": "code",
      "metadata": {
        "colab": {
          "base_uri": "https://localhost:8080/",
          "height": 360
        },
        "id": "ZKLM7cZEoKPY",
        "outputId": "5c7954bb-47c0-4a15-9c45-04347b844db3"
      },
      "source": [
        "# SVM dengan kernel polynomial, nilai parameter C, degree, dan gamma dapat diubah juga.\n",
        "svmPoly = SVC(\n",
        "  kernel = 'poly',\n",
        "  C = 1,\n",
        "  gamma = 0.01,\n",
        "  degree = 2\n",
        ")\n",
        "\n",
        "svmPoly.fit(X_train, y_train)\n",
        "y_pred = svmPoly.predict(X_test)\n",
        "score_svmPoly = metrics.accuracy_score(y_test, y_pred)\n",
        "print(\"Akurasi dengan menggunakan Support Vector Machine Polynomial Kernel: \", score_svmPoly)\n",
        "\n",
        "rp_svmPly = dict_classification_report(y_test,y_pred)\n",
        "print(rp_svmPly)\n",
        "\n",
        "cm_svmPly = confusion_matrix(y_test, y_pred)\n",
        "print(cm_svmPly)\n",
        "\n",
        "perf_svmPly =rp_svmPly.loc[ 'weighted avg' ,  'precision' : 'f1-score' ]\n",
        "key_perf_svmPly = perf_svmPly.keys()\n",
        "\n",
        "perf_acc_svmPly = rp_svmPly.loc['accuracy','f1-score']\n",
        "\n",
        "V_PsvmPly_key = np.append('accuracy', key_perf_svmPly)\n",
        "V_PsvmPly = np.append(perf_acc_svmPly, perf_svmPly)\n",
        "\n",
        "n_svmPly = pd.DataFrame(V_PsvmPly, V_PsvmPly_key, columns=['SVM-polynomial'])\n",
        "n_svmPly.head()"
      ],
      "execution_count": 118,
      "outputs": [
        {
          "output_type": "stream",
          "name": "stdout",
          "text": [
            "Akurasi dengan menggunakan Support Vector Machine Polynomial Kernel:  0.9333333333333333\n",
            "              precision    recall  f1-score    support\n",
            "0              0.928571  1.000000  0.962963  13.000000\n",
            "macro avg      0.933135  0.938562  0.935129  45.000000\n",
            "2              0.933333  0.933333  0.933333  15.000000\n",
            "accuracy       0.933333  0.933333  0.933333   0.933333\n",
            "weighted avg   0.933532  0.933333  0.932735  45.000000\n",
            "1              0.937500  0.882353  0.909091  17.000000\n",
            "[[13  0  0]\n",
            " [ 1 15  1]\n",
            " [ 0  1 14]]\n"
          ]
        },
        {
          "output_type": "execute_result",
          "data": {
            "text/html": [
              "<div>\n",
              "<style scoped>\n",
              "    .dataframe tbody tr th:only-of-type {\n",
              "        vertical-align: middle;\n",
              "    }\n",
              "\n",
              "    .dataframe tbody tr th {\n",
              "        vertical-align: top;\n",
              "    }\n",
              "\n",
              "    .dataframe thead th {\n",
              "        text-align: right;\n",
              "    }\n",
              "</style>\n",
              "<table border=\"1\" class=\"dataframe\">\n",
              "  <thead>\n",
              "    <tr style=\"text-align: right;\">\n",
              "      <th></th>\n",
              "      <th>SVM-polynomial</th>\n",
              "    </tr>\n",
              "  </thead>\n",
              "  <tbody>\n",
              "    <tr>\n",
              "      <th>accuracy</th>\n",
              "      <td>0.933333</td>\n",
              "    </tr>\n",
              "    <tr>\n",
              "      <th>precision</th>\n",
              "      <td>0.933532</td>\n",
              "    </tr>\n",
              "    <tr>\n",
              "      <th>recall</th>\n",
              "      <td>0.933333</td>\n",
              "    </tr>\n",
              "    <tr>\n",
              "      <th>f1-score</th>\n",
              "      <td>0.932735</td>\n",
              "    </tr>\n",
              "  </tbody>\n",
              "</table>\n",
              "</div>"
            ],
            "text/plain": [
              "           SVM-polynomial\n",
              "accuracy         0.933333\n",
              "precision        0.933532\n",
              "recall           0.933333\n",
              "f1-score         0.932735"
            ]
          },
          "metadata": {},
          "execution_count": 118
        }
      ]
    },
    {
      "cell_type": "code",
      "metadata": {
        "colab": {
          "base_uri": "https://localhost:8080/",
          "height": 360
        },
        "id": "pnOb-C0toZfE",
        "outputId": "7e6ae5e4-3195-4300-e9d3-cc650fe71a56"
      },
      "source": [
        "# SVM dengan kernel RBF, nilai parameter C dan gamma dapat diubah juga.\n",
        "svmRBF = SVC(\n",
        "  kernel = 'rbf',\n",
        "  C = 2,\n",
        "  gamma = 0.2,\n",
        ")\n",
        "\n",
        "svmRBF.fit(X_train, y_train)\n",
        "y_pred = svmRBF.predict(X_test)\n",
        "score_svm = metrics.accuracy_score(y_test, y_pred)\n",
        "print(\"Akurasi dengan menggunakan Support Vector Machine RBF Kernel: \", score_svm)\n",
        "\n",
        "rp_svmRBF = dict_classification_report(y_test,y_pred)\n",
        "print(rp_svmRBF)\n",
        "\n",
        "cm_svmRBF = confusion_matrix(y_test, y_pred)\n",
        "print(cm_svmRBF)\n",
        "\n",
        "perf_svmRBF =rp_svmRBF.loc[ 'weighted avg' ,  'precision' : 'f1-score' ]\n",
        "key_perf_svmRBF = perf_svmRBF.keys()\n",
        "\n",
        "perf_acc_svmRBF = rp_svmRBF.loc['accuracy','f1-score']\n",
        "\n",
        "V_PsvmRBF_key = np.append('accuracy', key_perf_svmRBF)\n",
        "V_PsvmRBF = np.append(perf_acc_svmRBF, perf_svmRBF)\n",
        "\n",
        "n_svmRBF = pd.DataFrame(V_PsvmRBF, V_PsvmRBF_key, columns=['SVM-RBF_C:2,g:0.2'])\n",
        "n_svmRBF.head()"
      ],
      "execution_count": 117,
      "outputs": [
        {
          "output_type": "stream",
          "name": "stdout",
          "text": [
            "Akurasi dengan menggunakan Support Vector Machine RBF Kernel:  1.0\n",
            "              precision  recall  f1-score  support\n",
            "0                   1.0     1.0       1.0     13.0\n",
            "1                   1.0     1.0       1.0     17.0\n",
            "2                   1.0     1.0       1.0     15.0\n",
            "accuracy            1.0     1.0       1.0      1.0\n",
            "macro avg           1.0     1.0       1.0     45.0\n",
            "weighted avg        1.0     1.0       1.0     45.0\n",
            "[[13  0  0]\n",
            " [ 0 17  0]\n",
            " [ 0  0 15]]\n"
          ]
        },
        {
          "output_type": "execute_result",
          "data": {
            "text/html": [
              "<div>\n",
              "<style scoped>\n",
              "    .dataframe tbody tr th:only-of-type {\n",
              "        vertical-align: middle;\n",
              "    }\n",
              "\n",
              "    .dataframe tbody tr th {\n",
              "        vertical-align: top;\n",
              "    }\n",
              "\n",
              "    .dataframe thead th {\n",
              "        text-align: right;\n",
              "    }\n",
              "</style>\n",
              "<table border=\"1\" class=\"dataframe\">\n",
              "  <thead>\n",
              "    <tr style=\"text-align: right;\">\n",
              "      <th></th>\n",
              "      <th>SVM-RBF_C:2,g:0.2</th>\n",
              "    </tr>\n",
              "  </thead>\n",
              "  <tbody>\n",
              "    <tr>\n",
              "      <th>accuracy</th>\n",
              "      <td>1.0</td>\n",
              "    </tr>\n",
              "    <tr>\n",
              "      <th>precision</th>\n",
              "      <td>1.0</td>\n",
              "    </tr>\n",
              "    <tr>\n",
              "      <th>recall</th>\n",
              "      <td>1.0</td>\n",
              "    </tr>\n",
              "    <tr>\n",
              "      <th>f1-score</th>\n",
              "      <td>1.0</td>\n",
              "    </tr>\n",
              "  </tbody>\n",
              "</table>\n",
              "</div>"
            ],
            "text/plain": [
              "           SVM-RBF_C:2,g:0.2\n",
              "accuracy                 1.0\n",
              "precision                1.0\n",
              "recall                   1.0\n",
              "f1-score                 1.0"
            ]
          },
          "metadata": {},
          "execution_count": 117
        }
      ]
    },
    {
      "cell_type": "markdown",
      "metadata": {
        "id": "N_eNB3GqnmeT"
      },
      "source": [
        "## 2.3 Decision Tree"
      ]
    },
    {
      "cell_type": "markdown",
      "metadata": {
        "id": "ICUB0M1y9tE9"
      },
      "source": [
        "Penjelasan lebih lengkap mengenai penggunaan Decision Tree dapat dilihat pada https://scikit-learn.org/stable/modules/generated/sklearn.tree.DecisionTreeClassifier.html#sklearn.tree.DecisionTreeClassifier"
      ]
    },
    {
      "cell_type": "code",
      "metadata": {
        "colab": {
          "base_uri": "https://localhost:8080/",
          "height": 360
        },
        "id": "crUBydu1onDR",
        "outputId": "5c37f483-0e50-4924-91d8-3d7c8ebac99c"
      },
      "source": [
        "from sklearn.tree import DecisionTreeClassifier\n",
        "from sklearn import metrics\n",
        "from sklearn.metrics import precision_score,recall_score,f1_score, classification_report, confusion_matrix\n",
        "\n",
        "\n",
        "dt = DecisionTreeClassifier(\n",
        "  max_depth = None,\n",
        "  min_samples_split = 2\n",
        ")\n",
        "\n",
        "dt.fit(X_train, y_train)\n",
        "y_pred = dt.predict(X_test)\n",
        "score_dtc = metrics.accuracy_score(y_test, y_pred)\n",
        "print(\"Akurasi dengan menggunakan Decision Tree: \", score_dtc)\n",
        "\n",
        "rp_DT = dict_classification_report(y_test,y_pred)\n",
        "print(rp_DT)\n",
        "\n",
        "cm_DT = confusion_matrix(y_test, y_pred)\n",
        "print(cm_DT)\n",
        "\n",
        "perf_DT =rp_DT.loc[ 'weighted avg' ,  'precision' : 'f1-score' ]\n",
        "key_perf_DT = perf_DT.keys()\n",
        "\n",
        "perf_acc_DT = rp_DT.loc['accuracy','f1-score']\n",
        "\n",
        "V_PDT_key = np.append('accuracy', key_perf_DT)\n",
        "V_PDT = np.append(perf_acc_DT, perf_DT)\n",
        "\n",
        "n_DT = pd.DataFrame(V_PDT, V_PDT_key, columns=['naive_bayes'])\n",
        "n_DT.head()"
      ],
      "execution_count": 116,
      "outputs": [
        {
          "output_type": "stream",
          "name": "stdout",
          "text": [
            "Akurasi dengan menggunakan Decision Tree:  0.9777777777777777\n",
            "              precision    recall  f1-score    support\n",
            "0              1.000000  1.000000  1.000000  13.000000\n",
            "macro avg      0.981481  0.977778  0.978982  45.000000\n",
            "accuracy       0.977778  0.977778  0.977778   0.977778\n",
            "weighted avg   0.979012  0.977778  0.977712  45.000000\n",
            "1              0.944444  1.000000  0.971429  17.000000\n",
            "2              1.000000  0.933333  0.965517  15.000000\n",
            "[[13  0  0]\n",
            " [ 0 17  0]\n",
            " [ 0  1 14]]\n"
          ]
        },
        {
          "output_type": "execute_result",
          "data": {
            "text/html": [
              "<div>\n",
              "<style scoped>\n",
              "    .dataframe tbody tr th:only-of-type {\n",
              "        vertical-align: middle;\n",
              "    }\n",
              "\n",
              "    .dataframe tbody tr th {\n",
              "        vertical-align: top;\n",
              "    }\n",
              "\n",
              "    .dataframe thead th {\n",
              "        text-align: right;\n",
              "    }\n",
              "</style>\n",
              "<table border=\"1\" class=\"dataframe\">\n",
              "  <thead>\n",
              "    <tr style=\"text-align: right;\">\n",
              "      <th></th>\n",
              "      <th>naive_bayes</th>\n",
              "    </tr>\n",
              "  </thead>\n",
              "  <tbody>\n",
              "    <tr>\n",
              "      <th>accuracy</th>\n",
              "      <td>0.977778</td>\n",
              "    </tr>\n",
              "    <tr>\n",
              "      <th>precision</th>\n",
              "      <td>0.979012</td>\n",
              "    </tr>\n",
              "    <tr>\n",
              "      <th>recall</th>\n",
              "      <td>0.977778</td>\n",
              "    </tr>\n",
              "    <tr>\n",
              "      <th>f1-score</th>\n",
              "      <td>0.977712</td>\n",
              "    </tr>\n",
              "  </tbody>\n",
              "</table>\n",
              "</div>"
            ],
            "text/plain": [
              "           naive_bayes\n",
              "accuracy      0.977778\n",
              "precision     0.979012\n",
              "recall        0.977778\n",
              "f1-score      0.977712"
            ]
          },
          "metadata": {},
          "execution_count": 116
        }
      ]
    },
    {
      "cell_type": "markdown",
      "metadata": {
        "id": "b51jAnSxpkfX"
      },
      "source": [
        "### Hyperparameter Decision Tree"
      ]
    },
    {
      "cell_type": "markdown",
      "metadata": {
        "id": "6ZIqKskM8yz1"
      },
      "source": [
        "Saat menggunakan model Decision Tree, beberapa parameter dapat diubah sesuai dengan kebutuhan, antara max_depth dan min_samples_split."
      ]
    },
    {
      "cell_type": "code",
      "metadata": {
        "colab": {
          "base_uri": "https://localhost:8080/",
          "height": 360
        },
        "id": "2khS1rfapS9i",
        "outputId": "fcc9aa2f-fc0a-44d3-f9db-4aa4bf07fb31"
      },
      "source": [
        "# Decision Tree dengan maximal kedalaman adalah 1 dan minimal jumlah sampel untuk dibentuk leaf baru adalah 2\n",
        "dt = DecisionTreeClassifier(\n",
        "  max_depth = 3,\n",
        "  min_samples_split = 2\n",
        ")\n",
        "\n",
        "dt.fit(X_train, y_train)\n",
        "y_pred = dt.predict(X_test)\n",
        "score_hdtc = metrics.accuracy_score(y_test, y_pred)\n",
        "print(\"Akurasi dengan menggunakan Decision Tree: \", score_hdtc)\n",
        "\n",
        "rp_HDT = dict_classification_report(y_test,y_pred)\n",
        "print(rp_HDT)\n",
        "\n",
        "cm_HDT = confusion_matrix(y_test, y_pred)\n",
        "print(cm_HDT)\n",
        "\n",
        "perf_HDT =rp_HDT.loc[ 'weighted avg' ,  'precision' : 'f1-score' ]\n",
        "key_perf_HDT = perf_HDT.keys()\n",
        "\n",
        "perf_acc_HDT = rp_HDT.loc['accuracy','f1-score']\n",
        "\n",
        "V_PHDT_key = np.append('accuracy', key_perf_HDT)\n",
        "V_PHDT = np.append(perf_acc_HDT, perf_HDT)\n",
        "\n",
        "n_HDT = pd.DataFrame(V_PHDT, V_PHDT_key, columns=['naive_bayes'])\n",
        "n_HDT.head()"
      ],
      "execution_count": 115,
      "outputs": [
        {
          "output_type": "stream",
          "name": "stdout",
          "text": [
            "Akurasi dengan menggunakan Decision Tree:  0.9777777777777777\n",
            "              precision    recall  f1-score    support\n",
            "0              1.000000  1.000000  1.000000  13.000000\n",
            "macro avg      0.981481  0.977778  0.978982  45.000000\n",
            "accuracy       0.977778  0.977778  0.977778   0.977778\n",
            "weighted avg   0.979012  0.977778  0.977712  45.000000\n",
            "1              0.944444  1.000000  0.971429  17.000000\n",
            "2              1.000000  0.933333  0.965517  15.000000\n",
            "[[13  0  0]\n",
            " [ 0 17  0]\n",
            " [ 0  1 14]]\n"
          ]
        },
        {
          "output_type": "execute_result",
          "data": {
            "text/html": [
              "<div>\n",
              "<style scoped>\n",
              "    .dataframe tbody tr th:only-of-type {\n",
              "        vertical-align: middle;\n",
              "    }\n",
              "\n",
              "    .dataframe tbody tr th {\n",
              "        vertical-align: top;\n",
              "    }\n",
              "\n",
              "    .dataframe thead th {\n",
              "        text-align: right;\n",
              "    }\n",
              "</style>\n",
              "<table border=\"1\" class=\"dataframe\">\n",
              "  <thead>\n",
              "    <tr style=\"text-align: right;\">\n",
              "      <th></th>\n",
              "      <th>naive_bayes</th>\n",
              "    </tr>\n",
              "  </thead>\n",
              "  <tbody>\n",
              "    <tr>\n",
              "      <th>accuracy</th>\n",
              "      <td>0.977778</td>\n",
              "    </tr>\n",
              "    <tr>\n",
              "      <th>precision</th>\n",
              "      <td>0.979012</td>\n",
              "    </tr>\n",
              "    <tr>\n",
              "      <th>recall</th>\n",
              "      <td>0.977778</td>\n",
              "    </tr>\n",
              "    <tr>\n",
              "      <th>f1-score</th>\n",
              "      <td>0.977712</td>\n",
              "    </tr>\n",
              "  </tbody>\n",
              "</table>\n",
              "</div>"
            ],
            "text/plain": [
              "           naive_bayes\n",
              "accuracy      0.977778\n",
              "precision     0.979012\n",
              "recall        0.977778\n",
              "f1-score      0.977712"
            ]
          },
          "metadata": {},
          "execution_count": 115
        }
      ]
    },
    {
      "cell_type": "markdown",
      "metadata": {
        "id": "VRw9nokWqI72"
      },
      "source": [
        "## 2.4 Naive Bayes"
      ]
    },
    {
      "cell_type": "markdown",
      "metadata": {
        "id": "M0yAABum9-77"
      },
      "source": [
        "Penjelasan lebih lengkap mengenai penggunaan Naive Bayes dapat dilihat pada https://scikit-learn.org/stable/modules/generated/sklearn.naive_bayes.BernoulliNB.html#sklearn.naive_bayes.BernoulliNB"
      ]
    },
    {
      "cell_type": "code",
      "metadata": {
        "colab": {
          "base_uri": "https://localhost:8080/",
          "height": 414
        },
        "id": "8u5I4DVvrRdO",
        "outputId": "5301b4c6-22e5-4a0a-af21-271e13729c32"
      },
      "source": [
        "from sklearn import naive_bayes\n",
        "from sklearn import metrics\n",
        "from sklearn.metrics import precision_score,recall_score,f1_score, classification_report, confusion_matrix\n",
        "from sklearn.naive_bayes import BernoulliNB\n",
        "\n",
        "nb = naive_bayes.BernoulliNB()\n",
        "\n",
        "nb.fit(X_train, y_train)\n",
        "y_pred = nb.predict(X_test)\n",
        "acc_nb = metrics.accuracy_score(y_test, y_pred)\n",
        "print(\"Akurasi dengan menggunakan Naive Bayes: \", acc_nb)\n",
        "\n",
        "# recall_nb = recall_score(y_test, y_pred, average='weighted')\n",
        "# print(\"Akurasi dengan menggunakan Naive Bayes: \", recall_nb)\n",
        "\n",
        "# f1_nb = f1_score(y_test, y_pred, average='weighted')\n",
        "# print(\"Akurasi dengan menggunakan Naive Bayes: \", f1_nb)\n",
        "\n",
        "# prec_nb = precision_score(y_test, y_pred, average='weighted')\n",
        "# print(\"Akurasi dengan menggunakan Naive Bayes: \", prec_nb)\n",
        "\n",
        "# data = [acc_nb, prec_nb, recall_nb, f1_nb]\n",
        "\n",
        "# print(data)\n",
        "\n",
        "rp_nb = dict_classification_report(y_test,y_pred)\n",
        "print(rp_nb)\n",
        "\n",
        "cm_nb = confusion_matrix(y_test, y_pred)\n",
        "print(cm_nb)\n",
        "\n",
        "perf_nb =rp_nb.loc[ 'weighted avg' ,  'precision' : 'f1-score' ]\n",
        "key_perf_nb = perf_nb.keys()\n",
        "\n",
        "perf_acc_nb = rp_nb.loc['accuracy','f1-score']\n",
        "\n",
        "V_Pnb_key = np.append('accuracy', key_perf_nb)\n",
        "V_Pnb = np.append(perf_acc_nb, perf_nb)\n",
        "\n",
        "n_nb = pd.DataFrame(V_Pnb, V_Pnb_key, columns=['naive_bayes'])\n",
        "n_nb.head()"
      ],
      "execution_count": 114,
      "outputs": [
        {
          "output_type": "stream",
          "name": "stdout",
          "text": [
            "Akurasi dengan menggunakan Naive Bayes:  0.28888888888888886\n",
            "              precision    recall  f1-score    support\n",
            "0              0.288889  1.000000  0.448276  13.000000\n",
            "accuracy       0.288889  0.288889  0.288889   0.288889\n",
            "macro avg      0.096296  0.333333  0.149425  45.000000\n",
            "weighted avg   0.083457  0.288889  0.129502  45.000000\n",
            "1              0.000000  0.000000  0.000000  17.000000\n",
            "2              0.000000  0.000000  0.000000  15.000000\n",
            "[[13  0  0]\n",
            " [17  0  0]\n",
            " [15  0  0]]\n"
          ]
        },
        {
          "output_type": "stream",
          "name": "stderr",
          "text": [
            "/usr/local/lib/python3.7/dist-packages/sklearn/metrics/_classification.py:1272: UndefinedMetricWarning: Precision and F-score are ill-defined and being set to 0.0 in labels with no predicted samples. Use `zero_division` parameter to control this behavior.\n",
            "  _warn_prf(average, modifier, msg_start, len(result))\n"
          ]
        },
        {
          "output_type": "execute_result",
          "data": {
            "text/html": [
              "<div>\n",
              "<style scoped>\n",
              "    .dataframe tbody tr th:only-of-type {\n",
              "        vertical-align: middle;\n",
              "    }\n",
              "\n",
              "    .dataframe tbody tr th {\n",
              "        vertical-align: top;\n",
              "    }\n",
              "\n",
              "    .dataframe thead th {\n",
              "        text-align: right;\n",
              "    }\n",
              "</style>\n",
              "<table border=\"1\" class=\"dataframe\">\n",
              "  <thead>\n",
              "    <tr style=\"text-align: right;\">\n",
              "      <th></th>\n",
              "      <th>naive_bayes</th>\n",
              "    </tr>\n",
              "  </thead>\n",
              "  <tbody>\n",
              "    <tr>\n",
              "      <th>accuracy</th>\n",
              "      <td>0.288889</td>\n",
              "    </tr>\n",
              "    <tr>\n",
              "      <th>precision</th>\n",
              "      <td>0.083457</td>\n",
              "    </tr>\n",
              "    <tr>\n",
              "      <th>recall</th>\n",
              "      <td>0.288889</td>\n",
              "    </tr>\n",
              "    <tr>\n",
              "      <th>f1-score</th>\n",
              "      <td>0.129502</td>\n",
              "    </tr>\n",
              "  </tbody>\n",
              "</table>\n",
              "</div>"
            ],
            "text/plain": [
              "           naive_bayes\n",
              "accuracy      0.288889\n",
              "precision     0.083457\n",
              "recall        0.288889\n",
              "f1-score      0.129502"
            ]
          },
          "metadata": {},
          "execution_count": 114
        }
      ]
    },
    {
      "cell_type": "markdown",
      "metadata": {
        "id": "z2znVGrzqOFs"
      },
      "source": [
        "## 2.5 K-Nearest Neighbors"
      ]
    },
    {
      "cell_type": "markdown",
      "metadata": {
        "id": "QlVdwzp69-BQ"
      },
      "source": [
        "Penjelasan lebih lengkap mengenai penggunaan K-Nearest Neighbors dapat dilihat pada https://scikit-learn.org/stable/modules/generated/sklearn.neighbors.KNeighborsClassifier.html#sklearn.neighbors.KNeighborsClassifier"
      ]
    },
    {
      "cell_type": "code",
      "metadata": {
        "colab": {
          "base_uri": "https://localhost:8080/",
          "height": 360
        },
        "id": "abraY0V1uRcC",
        "outputId": "9750caaa-05bb-4760-93b9-5bcafe2873a5"
      },
      "source": [
        "from sklearn.neighbors import KNeighborsClassifier\n",
        "from sklearn import metrics\n",
        "from sklearn.metrics import precision_score,recall_score,f1_score, classification_report, confusion_matrix\n",
        "\n",
        "knn = KNeighborsClassifier()\n",
        "\n",
        "knn.fit(X_train, y_train)\n",
        "y_pred = knn.predict(X_test)\n",
        "score_knn = metrics.accuracy_score(y_test, y_pred)\n",
        "print(\"Akurasi dengan menggunakan Nearest Neighbor: \", score_knn)\n",
        "\n",
        "rp_knn = dict_classification_report(y_test,y_pred)\n",
        "print(rp_knn)\n",
        "\n",
        "cm_knn = confusion_matrix(y_test, y_pred)\n",
        "print(cm_knn)\n",
        "\n",
        "perf_knn =rp_knn.loc[ 'weighted avg' ,  'precision' : 'f1-score' ]\n",
        "key_perf_knn = perf_knn.keys()\n",
        "\n",
        "perf_acc_knn = rp_knn.loc['accuracy','f1-score']\n",
        "\n",
        "V_Pknn_key = np.append('accuracy', key_perf_knn)\n",
        "V_Pknn = np.append(perf_acc_knn, perf_knn)\n",
        "\n",
        "n_knn = pd.DataFrame(V_Pknn, V_Pknn_key,columns=['k-NN'])\n",
        "n_knn.head()"
      ],
      "execution_count": 113,
      "outputs": [
        {
          "output_type": "stream",
          "name": "stdout",
          "text": [
            "Akurasi dengan menggunakan Nearest Neighbor:  0.9777777777777777\n",
            "              precision    recall  f1-score    support\n",
            "0              1.000000  1.000000  1.000000  13.000000\n",
            "macro avg      0.981481  0.977778  0.978982  45.000000\n",
            "accuracy       0.977778  0.977778  0.977778   0.977778\n",
            "weighted avg   0.979012  0.977778  0.977712  45.000000\n",
            "1              0.944444  1.000000  0.971429  17.000000\n",
            "2              1.000000  0.933333  0.965517  15.000000\n",
            "[[13  0  0]\n",
            " [ 0 17  0]\n",
            " [ 0  1 14]]\n"
          ]
        },
        {
          "output_type": "execute_result",
          "data": {
            "text/html": [
              "<div>\n",
              "<style scoped>\n",
              "    .dataframe tbody tr th:only-of-type {\n",
              "        vertical-align: middle;\n",
              "    }\n",
              "\n",
              "    .dataframe tbody tr th {\n",
              "        vertical-align: top;\n",
              "    }\n",
              "\n",
              "    .dataframe thead th {\n",
              "        text-align: right;\n",
              "    }\n",
              "</style>\n",
              "<table border=\"1\" class=\"dataframe\">\n",
              "  <thead>\n",
              "    <tr style=\"text-align: right;\">\n",
              "      <th></th>\n",
              "      <th>k-NN</th>\n",
              "    </tr>\n",
              "  </thead>\n",
              "  <tbody>\n",
              "    <tr>\n",
              "      <th>accuracy</th>\n",
              "      <td>0.977778</td>\n",
              "    </tr>\n",
              "    <tr>\n",
              "      <th>precision</th>\n",
              "      <td>0.979012</td>\n",
              "    </tr>\n",
              "    <tr>\n",
              "      <th>recall</th>\n",
              "      <td>0.977778</td>\n",
              "    </tr>\n",
              "    <tr>\n",
              "      <th>f1-score</th>\n",
              "      <td>0.977712</td>\n",
              "    </tr>\n",
              "  </tbody>\n",
              "</table>\n",
              "</div>"
            ],
            "text/plain": [
              "               k-NN\n",
              "accuracy   0.977778\n",
              "precision  0.979012\n",
              "recall     0.977778\n",
              "f1-score   0.977712"
            ]
          },
          "metadata": {},
          "execution_count": 113
        }
      ]
    },
    {
      "cell_type": "markdown",
      "metadata": {
        "id": "neen1o75T46Y"
      },
      "source": [
        "## 2.6 AdaBoost Classifier"
      ]
    },
    {
      "cell_type": "code",
      "metadata": {
        "colab": {
          "base_uri": "https://localhost:8080/",
          "height": 360
        },
        "id": "YRkqk1gql2bG",
        "outputId": "f7847b3b-d5d2-439a-def8-1a2f4913605e"
      },
      "source": [
        "# Import AdaBoost Classifier dari sklearn\n",
        "import numpy as np\n",
        "import pandas as pd\n",
        "from sklearn.ensemble import AdaBoostClassifier\n",
        "from sklearn.metrics import precision_score,recall_score,f1_score, classification_report, confusion_matrix\n",
        "pd.set_option('display.max_columns', None)\n",
        "# Import metric untuk memeriksa akurasi\n",
        "from sklearn import metrics\n",
        "\n",
        "ab = AdaBoostClassifier(\n",
        "    n_estimators = 50,  #menentukan banyaknya weak learner sebanyak 50\n",
        "    learning_rate = 1\n",
        ")\n",
        "\n",
        "ab.fit(X_train, y_train)\n",
        "y_pred = ab.predict(X_test)\n",
        "score_ab = metrics.accuracy_score(y_test, y_pred)\n",
        "print(\"Akurasi dengan menggunakan AdaBoost Classifier: \", score_ab)\n",
        "\n",
        "rp_ab = dict_classification_report(y_test,y_pred)\n",
        "# df_rp_ab_report = pd.DataFrame(rp_ab).transpose()\n",
        "# print(df_rp_ab_report)\n",
        "print(rp_ab)\n",
        "\n",
        "perf_ab =rp_ab.loc[ 'weighted avg' ,  'precision' : 'f1-score' ]\n",
        "key_perf_ab = perf_ab.keys()\n",
        "# print(perf_ab)\n",
        "# print(key_perf_ab)\n",
        "\n",
        "perf_acc_ab = rp_ab.loc['accuracy','f1-score']\n",
        "\n",
        "cm_ab = confusion_matrix(y_test, y_pred)\n",
        "print(cm_ab)\n",
        "\n",
        "V_Pab_key = np.append('accuracy', key_perf_ab)\n",
        "V_Pab = np.append(perf_acc_ab, perf_ab)\n",
        "\n",
        "n_ab = pd.DataFrame(V_Pab, V_Pab_key, columns=['Ada Boost'])\n",
        "n_ab.head()\n"
      ],
      "execution_count": 123,
      "outputs": [
        {
          "output_type": "stream",
          "name": "stdout",
          "text": [
            "Akurasi dengan menggunakan AdaBoost Classifier:  0.9555555555555556\n",
            "              precision    recall  f1-score    support\n",
            "0              1.000000  1.000000  1.000000  13.000000\n",
            "macro avg      0.964912  0.955556  0.957672  45.000000\n",
            "accuracy       0.955556  0.955556  0.955556   0.955556\n",
            "weighted avg   0.960234  0.955556  0.955203  45.000000\n",
            "1              0.894737  1.000000  0.944444  17.000000\n",
            "2              1.000000  0.866667  0.928571  15.000000\n",
            "[[13  0  0]\n",
            " [ 0 17  0]\n",
            " [ 0  2 13]]\n"
          ]
        },
        {
          "output_type": "execute_result",
          "data": {
            "text/html": [
              "<div>\n",
              "<style scoped>\n",
              "    .dataframe tbody tr th:only-of-type {\n",
              "        vertical-align: middle;\n",
              "    }\n",
              "\n",
              "    .dataframe tbody tr th {\n",
              "        vertical-align: top;\n",
              "    }\n",
              "\n",
              "    .dataframe thead th {\n",
              "        text-align: right;\n",
              "    }\n",
              "</style>\n",
              "<table border=\"1\" class=\"dataframe\">\n",
              "  <thead>\n",
              "    <tr style=\"text-align: right;\">\n",
              "      <th></th>\n",
              "      <th>Ada Boost</th>\n",
              "    </tr>\n",
              "  </thead>\n",
              "  <tbody>\n",
              "    <tr>\n",
              "      <th>accuracy</th>\n",
              "      <td>0.955556</td>\n",
              "    </tr>\n",
              "    <tr>\n",
              "      <th>precision</th>\n",
              "      <td>0.960234</td>\n",
              "    </tr>\n",
              "    <tr>\n",
              "      <th>recall</th>\n",
              "      <td>0.955556</td>\n",
              "    </tr>\n",
              "    <tr>\n",
              "      <th>f1-score</th>\n",
              "      <td>0.955203</td>\n",
              "    </tr>\n",
              "  </tbody>\n",
              "</table>\n",
              "</div>"
            ],
            "text/plain": [
              "           Ada Boost\n",
              "accuracy    0.955556\n",
              "precision   0.960234\n",
              "recall      0.955556\n",
              "f1-score    0.955203"
            ]
          },
          "metadata": {},
          "execution_count": 123
        }
      ]
    },
    {
      "cell_type": "markdown",
      "metadata": {
        "id": "j_abus9Jy8K0"
      },
      "source": [
        "## 3. Analisa Performa dari 6 Klasifikasi yang digunakan\n",
        "\n",
        "1. Logistic Regression\n",
        "2. Support Vector Mechine\n",
        "3. Decision Tree\n",
        "4. Naive Bayes Classifier\n",
        "5. k-Nearest Neighbor\n",
        "6. Boosting Algorithm\n",
        "\n"
      ]
    },
    {
      "cell_type": "code",
      "metadata": {
        "colab": {
          "base_uri": "https://localhost:8080/",
          "height": 451
        },
        "id": "23O22TZN3-XP",
        "outputId": "76645feb-c256-4bd1-ff38-9b246baf52ba"
      },
      "source": [
        "\n",
        "plt.plot(n_lr  , label=\"Logistic Regression\")\n",
        "plt.plot(n_svm  , label=\"SVM-rbf\")\n",
        "plt.plot(n_svmLinear  , label=\"SVM-linear\")\n",
        "plt.plot(n_svmPly  , label=\"SVM-polynomial\")\n",
        "plt.plot(n_svmRBF  , label=\"SVM-RBF_C:2,g:0.2\")\n",
        "plt.plot(n_DT  , label=\"Decision Tree\")\n",
        "plt.plot(n_HDT  , label=\"Hyper Decision Tree\")\n",
        "plt.plot(n_nb  , label=\"Naive Bayes\")\n",
        "plt.plot(n_knn  , label=\"k-NN\")\n",
        "plt.plot(n_ab  , label=\"AdaBoost\")\n",
        "\n",
        "plt.legend(bbox_to_anchor=(1.04,1), borderaxespad=0)\n",
        "\n",
        "plt.title(\"Perbandingan Perfoma\")\n",
        "plt.xlabel(\"Variable\")\n",
        "plt.ylabel(\"Nilai\")\n",
        "\n",
        "plt.show()\n",
        "\n",
        "result = pd.concat([n_lr, n_svm, n_svmLinear, n_svmPly, n_svmRBF, n_DT, n_HDT,n_nb, n_knn, n_ab ], axis=1).reindex(n_nb.index)\n",
        "pd.set_option('display.max_columns', None)\n",
        "result.head()"
      ],
      "execution_count": 107,
      "outputs": [
        {
          "output_type": "display_data",
          "data": {
            "image/png": "[encoded data removed]",
            "text/plain": [
              "<Figure size 432x288 with 1 Axes>"
            ]
          },
          "metadata": {
            "needs_background": "light"
          }
        },
        {
          "output_type": "execute_result",
          "data": {
            "text/html": [
              "<div>\n",
              "<style scoped>\n",
              "    .dataframe tbody tr th:only-of-type {\n",
              "        vertical-align: middle;\n",
              "    }\n",
              "\n",
              "    .dataframe tbody tr th {\n",
              "        vertical-align: top;\n",
              "    }\n",
              "\n",
              "    .dataframe thead th {\n",
              "        text-align: right;\n",
              "    }\n",
              "</style>\n",
              "<table border=\"1\" class=\"dataframe\">\n",
              "  <thead>\n",
              "    <tr style=\"text-align: right;\">\n",
              "      <th></th>\n",
              "      <th>l-regression</th>\n",
              "      <th>SVM-rbf</th>\n",
              "      <th>SVM-linear</th>\n",
              "      <th>SVM-polynomial</th>\n",
              "      <th>SVM-RBF_C:2,g:0.2</th>\n",
              "      <th>SVM-polynomial</th>\n",
              "      <th>naive_bayes</th>\n",
              "      <th>naive_bayes</th>\n",
              "      <th>k-NN</th>\n",
              "      <th>Ada Boost</th>\n",
              "    </tr>\n",
              "  </thead>\n",
              "  <tbody>\n",
              "    <tr>\n",
              "      <th>accuracy</th>\n",
              "      <td>0.977778</td>\n",
              "      <td>0.955556</td>\n",
              "      <td>1.0</td>\n",
              "      <td>0.933333</td>\n",
              "      <td>1.0</td>\n",
              "      <td>0.977778</td>\n",
              "      <td>0.977778</td>\n",
              "      <td>0.288889</td>\n",
              "      <td>0.977778</td>\n",
              "      <td>0.955556</td>\n",
              "    </tr>\n",
              "    <tr>\n",
              "      <th>precision</th>\n",
              "      <td>0.979012</td>\n",
              "      <td>0.955556</td>\n",
              "      <td>1.0</td>\n",
              "      <td>0.933532</td>\n",
              "      <td>1.0</td>\n",
              "      <td>0.979012</td>\n",
              "      <td>0.979012</td>\n",
              "      <td>0.083457</td>\n",
              "      <td>0.979012</td>\n",
              "      <td>0.960234</td>\n",
              "    </tr>\n",
              "    <tr>\n",
              "      <th>recall</th>\n",
              "      <td>0.977778</td>\n",
              "      <td>0.955556</td>\n",
              "      <td>1.0</td>\n",
              "      <td>0.933333</td>\n",
              "      <td>1.0</td>\n",
              "      <td>0.977778</td>\n",
              "      <td>0.977778</td>\n",
              "      <td>0.288889</td>\n",
              "      <td>0.977778</td>\n",
              "      <td>0.955556</td>\n",
              "    </tr>\n",
              "    <tr>\n",
              "      <th>f1-score</th>\n",
              "      <td>0.977712</td>\n",
              "      <td>0.955556</td>\n",
              "      <td>1.0</td>\n",
              "      <td>0.932735</td>\n",
              "      <td>1.0</td>\n",
              "      <td>0.977712</td>\n",
              "      <td>0.977712</td>\n",
              "      <td>0.129502</td>\n",
              "      <td>0.977712</td>\n",
              "      <td>0.955203</td>\n",
              "    </tr>\n",
              "  </tbody>\n",
              "</table>\n",
              "</div>"
            ],
            "text/plain": [
              "           l-regression   SVM-rbf  SVM-linear  SVM-polynomial  \\\n",
              "accuracy       0.977778  0.955556         1.0        0.933333   \n",
              "precision      0.979012  0.955556         1.0        0.933532   \n",
              "recall         0.977778  0.955556         1.0        0.933333   \n",
              "f1-score       0.977712  0.955556         1.0        0.932735   \n",
              "\n",
              "           SVM-RBF_C:2,g:0.2  SVM-polynomial  naive_bayes  naive_bayes  \\\n",
              "accuracy                 1.0        0.977778     0.977778     0.288889   \n",
              "precision                1.0        0.979012     0.979012     0.083457   \n",
              "recall                   1.0        0.977778     0.977778     0.288889   \n",
              "f1-score                 1.0        0.977712     0.977712     0.129502   \n",
              "\n",
              "               k-NN  Ada Boost  \n",
              "accuracy   0.977778   0.955556  \n",
              "precision  0.979012   0.960234  \n",
              "recall     0.977778   0.955556  \n",
              "f1-score   0.977712   0.955203  "
            ]
          },
          "metadata": {},
          "execution_count": 107
        }
      ]
    },
    {
      "cell_type": "code",
      "metadata": {
        "colab": {
          "base_uri": "https://localhost:8080/",
          "height": 395
        },
        "id": "oRddwtf0lwz_",
        "outputId": "a69d5bb5-b6d3-4dfe-eedc-c51b8a3f86dc"
      },
      "source": [
        "sns.set(rc = {'figure.figsize':(10,4)})\n",
        "o = sns.heatmap(\n",
        "    result, \n",
        "    cmap='coolwarm',\n",
        "    annot=True\n",
        "    )\n",
        "plt.title(\"Perbandingan Performa\")\n",
        "plt.xlabel(\"Jenis Klasifikasi\")\n",
        "plt.ylabel(\"Performa\")\n",
        "plt.show(o)"
      ],
      "execution_count": 129,
      "outputs": [
        {
          "output_type": "display_data",
          "data": {
            "image/png": "[encoded data removed]",
            "text/plain": [
              "<Figure size 720x288 with 2 Axes>"
            ]
          },
          "metadata": {}
        }
      ]
    }
  ]
}