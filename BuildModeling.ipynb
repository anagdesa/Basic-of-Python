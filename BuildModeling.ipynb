{
  "nbformat": 4,
  "nbformat_minor": 0,
  "metadata": {
    "colab": {
      "name": "Modul11_DTS.ipynb",
      "provenance": [],
      "collapsed_sections": [],
      "include_colab_link": true
    },
    "kernelspec": {
      "name": "python3",
      "display_name": "Python 3"
    },
    "language_info": {
      "name": "python"
    },
    "accelerator": "GPU"
  },
  "cells": [
    {
      "cell_type": "markdown",
      "metadata": {
        "id": "view-in-github",
        "colab_type": "text"
      },
      "source": [
        "<a href=\"https://colab.research.google.com/github/anagdesa/Basic-of-Python-for-Data-Science/blob/main/BuildModeling.ipynb\" target=\"_parent\"><img src=\"https://colab.research.google.com/assets/colab-badge.svg\" alt=\"Open In Colab\"/></a>"
      ]
    },
    {
      "cell_type": "markdown",
      "metadata": {
        "id": "7dnuNpwJkN1h"
      },
      "source": [
        "# 0. Dataset"
      ]
    },
    {
      "cell_type": "markdown",
      "metadata": {
        "id": "wgRfUxh232lI"
      },
      "source": [
        "Dataset yang digunakan dalam Notebook ini adalah dataset Iris (https://archive.ics.uci.edu/ml/datasets/iris) yang disediakan dalam pustaka Sklearn. Dataset dapat di-import dengan potongan kode di bawah:"
      ]
    },
    {
      "cell_type": "code",
      "metadata": {
        "id": "feYsnChYkQNP"
      },
      "source": [
        "from sklearn import datasets\n",
        "iris = datasets.load_iris()\n",
        "X = iris.data  # we only take the first two features.\n",
        "y = iris.target"
      ],
      "execution_count": null,
      "outputs": []
    },
    {
      "cell_type": "markdown",
      "metadata": {
        "id": "a-OPJ6bN4aJJ"
      },
      "source": [
        "Dataset Iris terdiri dari 3 kelas (Iris Setosa, Iris Versicolour, Iris Virginica) dengan banyak data sejumlah 150. Atribut / Fitur dari dataset terdiri dari sepal length dalam cm, sepal width dalam cm, petal length dalam cm, dan petal width dalam cm."
      ]
    },
    {
      "cell_type": "code",
      "metadata": {
        "colab": {
          "base_uri": "https://localhost:8080/"
        },
        "id": "PSN8U-Bik8Lr",
        "outputId": "2a5953c7-15c3-48cf-f0c2-22045de133c3"
      },
      "source": [
        "print(\"Banyak data: \", len(X))"
      ],
      "execution_count": null,
      "outputs": [
        {
          "output_type": "stream",
          "name": "stdout",
          "text": [
            "Banyak data:  150\n"
          ]
        }
      ]
    },
    {
      "cell_type": "code",
      "metadata": {
        "colab": {
          "base_uri": "https://localhost:8080/"
        },
        "id": "ruIXSP8ykYJt",
        "outputId": "7859d0e9-78de-47f9-8a67-af1e3af61396"
      },
      "source": [
        "print(\"10 data pertama: \")\n",
        "print(X[:10])"
      ],
      "execution_count": null,
      "outputs": [
        {
          "output_type": "stream",
          "name": "stdout",
          "text": [
            "10 data pertama: \n",
            "[[5.1 3.5 1.4 0.2]\n",
            " [4.9 3.  1.4 0.2]\n",
            " [4.7 3.2 1.3 0.2]\n",
            " [4.6 3.1 1.5 0.2]\n",
            " [5.  3.6 1.4 0.2]\n",
            " [5.4 3.9 1.7 0.4]\n",
            " [4.6 3.4 1.4 0.3]\n",
            " [5.  3.4 1.5 0.2]\n",
            " [4.4 2.9 1.4 0.2]\n",
            " [4.9 3.1 1.5 0.1]]\n"
          ]
        }
      ]
    },
    {
      "cell_type": "code",
      "metadata": {
        "colab": {
          "base_uri": "https://localhost:8080/"
        },
        "id": "BJywTnXpkfjR",
        "outputId": "41754426-ddf5-4d74-f6b7-f72c7fca6b48"
      },
      "source": [
        "print(\"10 label pertama: \")\n",
        "print(y[:10])"
      ],
      "execution_count": null,
      "outputs": [
        {
          "output_type": "stream",
          "name": "stdout",
          "text": [
            "10 label pertama: \n",
            "[0 0 0 0 0 0 0 0 0 0]\n"
          ]
        }
      ]
    },
    {
      "cell_type": "markdown",
      "metadata": {
        "id": "Rr2eFJIGjuJp"
      },
      "source": [
        "# 1. Pembagian Data"
      ]
    },
    {
      "cell_type": "markdown",
      "metadata": {
        "id": "m2USj2Abj16s"
      },
      "source": [
        "## 1.1 Train-Validation Split\n"
      ]
    },
    {
      "cell_type": "markdown",
      "metadata": {
        "id": "eibAAHs24-Y5"
      },
      "source": [
        "Train-Validation split dapat dilakukan dengan menjalankan potongan kode di bawah. Persentase pembagian data training dan data validasi dapat ditentukan dengan mengubah nilai parameter train_size."
      ]
    },
    {
      "cell_type": "code",
      "metadata": {
        "id": "k2waL8KngWjk"
      },
      "source": [
        "from sklearn.model_selection import train_test_split\n",
        "\n",
        "X_train, X_test, y_train, y_test = train_test_split(X, y, train_size = 0.7)"
      ],
      "execution_count": null,
      "outputs": []
    },
    {
      "cell_type": "code",
      "metadata": {
        "colab": {
          "base_uri": "https://localhost:8080/"
        },
        "id": "t99AAWb1kuNn",
        "outputId": "5dfcc318-d628-4d4a-8f37-8dc367d4a904"
      },
      "source": [
        "print(\"Banyak data latih setelah dilakukan Train-Validation Split: \", len(X_train))\n",
        "print(\"Banyak data uji setelah dilakukan Train-Validation Split: \", len(X_test))"
      ],
      "execution_count": null,
      "outputs": [
        {
          "output_type": "stream",
          "name": "stdout",
          "text": [
            "Banyak data latih setelah dilakukan Train-Validation Split:  105\n",
            "Banyak data uji setelah dilakukan Train-Validation Split:  45\n"
          ]
        }
      ]
    },
    {
      "cell_type": "markdown",
      "metadata": {
        "id": "e97uWkTgkNCZ"
      },
      "source": [
        "## 1.2\tK-Fold Cross Validation"
      ]
    },
    {
      "cell_type": "markdown",
      "metadata": {
        "id": "kQDyTsDy5NzG"
      },
      "source": [
        "Pustaka Scikit-learn menyediakan wrapper untuk melakukan K-Fold Cross Validation, yaitu dengan meng-import cross_val_score. cross_val_score menerima input berupa model machine learning, data training, label training, dan nilai K. Output yang dikeluarkan akan berupa list berisi akurasi setiap fold, sehingga untuk mendapatkan nilai rata-rata akurasi dari setiap foldnya, dapat menggunakan built-in function mean()."
      ]
    },
    {
      "cell_type": "code",
      "metadata": {
        "colab": {
          "base_uri": "https://localhost:8080/"
        },
        "id": "llXBIUEXlO_Q",
        "outputId": "2fd82995-f1c8-47c6-ef80-f74f1ea0c4c8"
      },
      "source": [
        "from sklearn.model_selection import cross_val_score\n",
        "from sklearn.svm import SVC\n",
        "\n",
        "model = SVC(kernel = 'linear', C = 1)\n",
        "scores = cross_val_score(model, X, y, cv = 5)\n",
        "print(\"Akurasi model SVM untuk tiap fold: \", scores)\n",
        "print(\"Akurasi model SVM dengan 5-Fold Cross Validation: \", scores.mean())"
      ],
      "execution_count": null,
      "outputs": [
        {
          "output_type": "stream",
          "name": "stdout",
          "text": [
            "Akurasi model SVM untuk tiap fold:  [0.96666667 1.         0.96666667 0.96666667 1.        ]\n",
            "Akurasi model SVM dengan 5-Fold Cross Validation:  0.9800000000000001\n"
          ]
        }
      ]
    },
    {
      "cell_type": "markdown",
      "metadata": {
        "id": "f4iVDE6MmXnE"
      },
      "source": [
        "# 2. Metode Klasifikasi"
      ]
    },
    {
      "cell_type": "markdown",
      "metadata": {
        "id": "SXRI3WsT78mh"
      },
      "source": [
        "Untuk potongan-potongan kode Metode Klasifikasi, data yang akan digunakan adalah data yang telah terbagi oleh proses Train-Validation split. Model akan dilatih dengan X_train dan y_train. Model yang telah terlatih kemudian diuji performa akurasinya menggunakan X_test dan y_test."
      ]
    },
    {
      "cell_type": "markdown",
      "metadata": {
        "id": "ey4qEoMdmagQ"
      },
      "source": [
        "## 2.1 Logistic Regression"
      ]
    },
    {
      "cell_type": "markdown",
      "metadata": {
        "id": "uaTOGwd_9Sr8"
      },
      "source": [
        "Penjelasan lebih lengkap mengenai penggunaan Logistic Regression dapat dilihat pada https://scikit-learn.org/stable/modules/generated/sklearn.linear_model.LogisticRegression.html"
      ]
    },
    {
      "cell_type": "code",
      "metadata": {
        "colab": {
          "base_uri": "https://localhost:8080/"
        },
        "id": "8vahsKNQlsiC",
        "outputId": "24fb5f6c-2402-4978-b1c0-0986ecee4089"
      },
      "source": [
        "from sklearn.linear_model import LogisticRegression\n",
        "from sklearn import metrics\n",
        "\n",
        "lr = LogisticRegression()\n",
        "\n",
        "lr.fit(X_train, y_train)\n",
        "y_pred = lr.predict(X_test)\n",
        "score = metrics.accuracy_score(y_test, y_pred)\n",
        "print(\"Akurasi dengan menggunakan Logistic Regression: \", score)"
      ],
      "execution_count": null,
      "outputs": [
        {
          "output_type": "stream",
          "name": "stdout",
          "text": [
            "Akurasi dengan menggunakan Logistic Regression:  1.0\n"
          ]
        }
      ]
    },
    {
      "cell_type": "markdown",
      "metadata": {
        "id": "folO6KG2nGak"
      },
      "source": [
        "## 2.2 Support Vector Machine"
      ]
    },
    {
      "cell_type": "markdown",
      "metadata": {
        "id": "gRw2n3sH9MkC"
      },
      "source": [
        "Penjelasan lebih lengkap mengenai penggunaan Support Vector Machine dapat dilihat pada https://scikit-learn.org/stable/modules/generated/sklearn.svm.SVC.html"
      ]
    },
    {
      "cell_type": "code",
      "metadata": {
        "colab": {
          "base_uri": "https://localhost:8080/"
        },
        "id": "lQ447Uz4nJ1P",
        "outputId": "b9377a6c-5219-4b0b-cc86-fba94ad7ef79"
      },
      "source": [
        "from sklearn.svm import SVC\n",
        "from sklearn import metrics\n",
        "\n",
        "svm = SVC(\n",
        "  kernel = 'rbf',\n",
        "  C = 1,\n",
        "  gamma = 0.01\n",
        ")\n",
        "\n",
        "svm.fit(X_train, y_train)\n",
        "y_pred = svm.predict(X_test)\n",
        "score = metrics.accuracy_score(y_test, y_pred)\n",
        "print(\"Akurasi dengan menggunakan Support Vector Machine: \", score)"
      ],
      "execution_count": null,
      "outputs": [
        {
          "output_type": "stream",
          "name": "stdout",
          "text": [
            "Akurasi dengan menggunakan Support Vector Machine:  0.9777777777777777\n"
          ]
        }
      ]
    },
    {
      "cell_type": "markdown",
      "metadata": {
        "id": "1ueX9Dl7nxSn"
      },
      "source": [
        "### Hyperparameter SVM"
      ]
    },
    {
      "cell_type": "markdown",
      "metadata": {
        "id": "UfupuqdO8iTg"
      },
      "source": [
        "Saat menggunakan model SVM, beberapa parameter dapat diubah sesuai dengan kebutuhan, antara lain kernel (linear, polynomial, rbf), nilai C, dan nilai Gamma."
      ]
    },
    {
      "cell_type": "code",
      "metadata": {
        "colab": {
          "base_uri": "https://localhost:8080/"
        },
        "id": "4c8iLaLSnwQm",
        "outputId": "bb95d21b-cac8-4285-93a1-53edecbd9aa8"
      },
      "source": [
        "# SVM dengan kernel Linear, nilai parameter C dapat diubah juga.\n",
        "svmLinear = SVC(\n",
        "  kernel = 'linear',\n",
        "  C = 1\n",
        ")\n",
        "\n",
        "svmLinear.fit(X_train, y_train)\n",
        "y_pred = svmLinear.predict(X_test)\n",
        "score = metrics.accuracy_score(y_test, y_pred)\n",
        "print(\"Akurasi dengan menggunakan Support Vector Machine Linear Kernel: \", score)"
      ],
      "execution_count": null,
      "outputs": [
        {
          "output_type": "stream",
          "name": "stdout",
          "text": [
            "Akurasi dengan menggunakan Support Vector Machine Linear Kernel:  1.0\n"
          ]
        }
      ]
    },
    {
      "cell_type": "code",
      "metadata": {
        "colab": {
          "base_uri": "https://localhost:8080/"
        },
        "id": "ZKLM7cZEoKPY",
        "outputId": "12ca6a98-0186-4888-fec6-86eeaff4f7a9"
      },
      "source": [
        "# SVM dengan kernel polynomial, nilai parameter C, degree, dan gamma dapat diubah juga.\n",
        "svmPoly = SVC(\n",
        "  kernel = 'poly',\n",
        "  C = 1,\n",
        "  gamma = 0.01,\n",
        "  degree = 2\n",
        ")\n",
        "\n",
        "svmPoly.fit(X_train, y_train)\n",
        "y_pred = svmPoly.predict(X_test)\n",
        "score = metrics.accuracy_score(y_test, y_pred)\n",
        "print(\"Akurasi dengan menggunakan Support Vector Machine Polynomial Kernel: \", score)"
      ],
      "execution_count": null,
      "outputs": [
        {
          "output_type": "stream",
          "name": "stdout",
          "text": [
            "Akurasi dengan menggunakan Support Vector Machine Polynomial Kernel:  0.9333333333333333\n"
          ]
        }
      ]
    },
    {
      "cell_type": "code",
      "metadata": {
        "colab": {
          "base_uri": "https://localhost:8080/"
        },
        "id": "pnOb-C0toZfE",
        "outputId": "d46cbebb-b383-47b7-ef7c-dc554ba6509e"
      },
      "source": [
        "# SVM dengan kernel RBF, nilai parameter C dan gamma dapat diubah juga.\n",
        "svmRBF = SVC(\n",
        "  kernel = 'rbf',\n",
        "  C = 1,\n",
        "  gamma = 0.01,\n",
        ")\n",
        "\n",
        "svmRBF.fit(X_train, y_train)\n",
        "y_pred = svmRBF.predict(X_test)\n",
        "score = metrics.accuracy_score(y_test, y_pred)\n",
        "print(\"Akurasi dengan menggunakan Support Vector Machine RBF Kernel: \", score)"
      ],
      "execution_count": null,
      "outputs": [
        {
          "output_type": "stream",
          "name": "stdout",
          "text": [
            "Akurasi dengan menggunakan Support Vector Machine RBF Kernel:  0.9777777777777777\n"
          ]
        }
      ]
    },
    {
      "cell_type": "markdown",
      "metadata": {
        "id": "N_eNB3GqnmeT"
      },
      "source": [
        "## 2.3 Decision Tree"
      ]
    },
    {
      "cell_type": "markdown",
      "metadata": {
        "id": "ICUB0M1y9tE9"
      },
      "source": [
        "Penjelasan lebih lengkap mengenai penggunaan Decision Tree dapat dilihat pada https://scikit-learn.org/stable/modules/generated/sklearn.tree.DecisionTreeClassifier.html#sklearn.tree.DecisionTreeClassifier"
      ]
    },
    {
      "cell_type": "code",
      "metadata": {
        "colab": {
          "base_uri": "https://localhost:8080/"
        },
        "id": "crUBydu1onDR",
        "outputId": "5cef23bc-2d12-440c-bfd4-adc23722223b"
      },
      "source": [
        "from sklearn.tree import DecisionTreeClassifier\n",
        "from sklearn import metrics\n",
        "\n",
        "dt = DecisionTreeClassifier(\n",
        "  max_depth = None,\n",
        "  min_samples_split = 2\n",
        ")\n",
        "\n",
        "dt.fit(X_train, y_train)\n",
        "y_pred = dt.predict(X_test)\n",
        "score = metrics.accuracy_score(y_test, y_pred)\n",
        "print(\"Akurasi dengan menggunakan Decision Tree: \", score)"
      ],
      "execution_count": null,
      "outputs": [
        {
          "output_type": "stream",
          "name": "stdout",
          "text": [
            "Akurasi dengan menggunakan Decision Tree:  0.9777777777777777\n"
          ]
        }
      ]
    },
    {
      "cell_type": "markdown",
      "metadata": {
        "id": "b51jAnSxpkfX"
      },
      "source": [
        "### Hyperparameter Decision Tree"
      ]
    },
    {
      "cell_type": "markdown",
      "metadata": {
        "id": "6ZIqKskM8yz1"
      },
      "source": [
        "Saat menggunakan model Decision Tree, beberapa parameter dapat diubah sesuai dengan kebutuhan, antara max_depth dan min_samples_split."
      ]
    },
    {
      "cell_type": "code",
      "metadata": {
        "colab": {
          "base_uri": "https://localhost:8080/"
        },
        "id": "2khS1rfapS9i",
        "outputId": "b7f65ed9-dd6c-4007-e0e2-568226080e96"
      },
      "source": [
        "# Decision Tree dengan maximal kedalaman adalah 1 dan minimal jumlah sampel untuk dibentuk leaf baru adalah 2\n",
        "dt = DecisionTreeClassifier(\n",
        "  max_depth = 1,\n",
        "  min_samples_split = 2\n",
        ")\n",
        "\n",
        "dt.fit(X_train, y_train)\n",
        "y_pred = dt.predict(X_test)\n",
        "score = metrics.accuracy_score(y_test, y_pred)\n",
        "print(\"Akurasi dengan menggunakan Decision Tree: \", score)"
      ],
      "execution_count": null,
      "outputs": [
        {
          "output_type": "stream",
          "name": "stdout",
          "text": [
            "Akurasi dengan menggunakan Decision Tree:  0.6\n"
          ]
        }
      ]
    },
    {
      "cell_type": "markdown",
      "metadata": {
        "id": "VRw9nokWqI72"
      },
      "source": [
        "## 2.4 Naive Bayes"
      ]
    },
    {
      "cell_type": "markdown",
      "metadata": {
        "id": "M0yAABum9-77"
      },
      "source": [
        "Penjelasan lebih lengkap mengenai penggunaan Naive Bayes dapat dilihat pada https://scikit-learn.org/stable/modules/generated/sklearn.naive_bayes.BernoulliNB.html#sklearn.naive_bayes.BernoulliNB"
      ]
    },
    {
      "cell_type": "code",
      "metadata": {
        "colab": {
          "base_uri": "https://localhost:8080/"
        },
        "id": "8u5I4DVvrRdO",
        "outputId": "944c3d31-8723-4505-b3db-2438c0c2cfb1"
      },
      "source": [
        "from sklearn import naive_bayes\n",
        "from sklearn import metrics\n",
        "\n",
        "nb = naive_bayes.BernoulliNB()\n",
        "\n",
        "nb.fit(X_train, y_train)\n",
        "y_pred = nb.predict(X_test)\n",
        "score = metrics.accuracy_score(y_test, y_pred)\n",
        "print(\"Akurasi dengan menggunakan Naive Bayes: \", score)"
      ],
      "execution_count": null,
      "outputs": [
        {
          "output_type": "stream",
          "name": "stdout",
          "text": [
            "Akurasi dengan menggunakan Naive Bayes:  0.24444444444444444\n"
          ]
        }
      ]
    },
    {
      "cell_type": "markdown",
      "metadata": {
        "id": "z2znVGrzqOFs"
      },
      "source": [
        "## 2.5 K-Nearest Neighbors"
      ]
    },
    {
      "cell_type": "markdown",
      "metadata": {
        "id": "QlVdwzp69-BQ"
      },
      "source": [
        "Penjelasan lebih lengkap mengenai penggunaan K-Nearest Neighbors dapat dilihat pada https://scikit-learn.org/stable/modules/generated/sklearn.neighbors.KNeighborsClassifier.html#sklearn.neighbors.KNeighborsClassifier"
      ]
    },
    {
      "cell_type": "code",
      "metadata": {
        "colab": {
          "base_uri": "https://localhost:8080/"
        },
        "id": "abraY0V1uRcC",
        "outputId": "7b0419f4-409e-4e21-d5ac-583759f631b8"
      },
      "source": [
        "from sklearn.neighbors import KNeighborsClassifier\n",
        "from sklearn import metrics\n",
        "\n",
        "knn = KNeighborsClassifier()\n",
        "\n",
        "knn.fit(X_train, y_train)\n",
        "y_pred = knn.predict(X_test)\n",
        "score = metrics.accuracy_score(y_test, y_pred)\n",
        "print(\"Akurasi dengan menggunakan Nearest Neighbor: \", score)"
      ],
      "execution_count": null,
      "outputs": [
        {
          "output_type": "stream",
          "name": "stdout",
          "text": [
            "Akurasi dengan menggunakan Nearest Neighbor:  1.0\n"
          ]
        }
      ]
    },
    {
      "cell_type": "code",
      "metadata": {
        "colab": {
          "base_uri": "https://localhost:8080/"
        },
        "id": "YRkqk1gql2bG",
        "outputId": "09d8e937-e05a-40d4-b246-faf55ff0bd09"
      },
      "source": [
        "# Import AdaBoost Classifier dari sklearn\n",
        "from sklearn.ensemble import AdaBoostClassifier\n",
        "\n",
        "# Import metric untuk memeriksa akurasi\n",
        "from sklearn import metrics\n",
        "\n",
        "ab = AdaBoostClassifier(\n",
        "    n_estimators = 50,  #menentukan banyaknya weak learner sebanyak 50\n",
        "    learning_rate = 1\n",
        ")\n",
        "\n",
        "ab.fit(X_train, y_train)\n",
        "y_pred = ab.predict(X_test)\n",
        "score = metrics.balanced_accuracy_score(y_test, y_pred)\n",
        "print(\"Akurasi dengan menggunakan AdaBoost Classifier: \", score)"
      ],
      "execution_count": null,
      "outputs": [
        {
          "output_type": "stream",
          "name": "stdout",
          "text": [
            "Akurasi dengan menggunakan AdaBoost Classifier:  1.0\n"
          ]
        }
      ]
    },
    {
      "cell_type": "markdown",
      "metadata": {
        "id": "s9WNB37Vk5bv"
      },
      "source": [
        "````\n",
        "Membangun Model dan Studi Kasus\n",
        "● Gunakan dataset Iris https://archive.ics.uci.edu/ml/datasets/iris\n",
        "● Data dibagi dengan proporsi : Data Latih (70%) , Data Uji (30%)\n",
        "● Gunakan metode klasifikasi dengan parameter tuning untuk mendapatkan akurasi terbaik\n",
        "● Terapkan Adaboost algorithm dan lakukan analisa perbandingan terhadap performa yang dihasilkan dari metode klasifikasi sebelumnya\n",
        "\n",
        "Catatan:\n",
        "Kirimkan file source code (ipynb)\n",
        "````"
      ]
    }
  ]
}